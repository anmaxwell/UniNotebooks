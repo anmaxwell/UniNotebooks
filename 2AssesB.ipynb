{
  "nbformat": 4,
  "nbformat_minor": 0,
  "metadata": {
    "colab": {
      "name": "2AssesB.ipynb",
      "provenance": [],
      "authorship_tag": "ABX9TyPbwwKndbcAuF+sghxXHene",
      "include_colab_link": true
    },
    "kernelspec": {
      "name": "python3",
      "display_name": "Python 3"
    }
  },
  "cells": [
    {
      "cell_type": "markdown",
      "metadata": {
        "id": "view-in-github",
        "colab_type": "text"
      },
      "source": [
        "<a href=\"https://colab.research.google.com/github/anmaxwell/UniNotebooks/blob/master/2AssesB.ipynb\" target=\"_parent\"><img src=\"https://colab.research.google.com/assets/colab-badge.svg\" alt=\"Open In Colab\"/></a>"
      ]
    },
    {
      "cell_type": "code",
      "metadata": {
        "id": "ETnvMsxWW2-_",
        "colab_type": "code",
        "colab": {}
      },
      "source": [
        "!pip install scattertext"
      ],
      "execution_count": 0,
      "outputs": []
    },
    {
      "cell_type": "code",
      "metadata": {
        "id": "DLFtqMZP4LTr",
        "colab_type": "code",
        "colab": {}
      },
      "source": [
        "pip install \"git+https://github.com/facebookresearch/fastText.git\""
      ],
      "execution_count": 0,
      "outputs": []
    },
    {
      "cell_type": "markdown",
      "metadata": {
        "id": "-K_qm9qaXGM_",
        "colab_type": "text"
      },
      "source": [
        "Install all necessary packages"
      ]
    },
    {
      "cell_type": "code",
      "metadata": {
        "id": "G9Hmw7ETW_af",
        "colab_type": "code",
        "colab": {}
      },
      "source": [
        "import fasttext.util\n",
        "import pandas as pd\n",
        "import re\n",
        "import scattertext as st\n",
        "import spacy\n",
        "\n",
        "from keras.preprocessing.text import text_to_word_sequence\n",
        "from keras.preprocessing.text import Tokenizer\n",
        "from scattertext import CorpusFromPandas, produce_scattertext_explorer\n",
        "from sklearn.model_selection import train_test_split"
      ],
      "execution_count": 0,
      "outputs": []
    },
    {
      "cell_type": "markdown",
      "metadata": {
        "id": "J5lT_VeNXUZ4",
        "colab_type": "text"
      },
      "source": [
        "Read in data and look at first item"
      ]
    },
    {
      "cell_type": "code",
      "metadata": {
        "id": "WBNz2bCXW_68",
        "colab_type": "code",
        "colab": {}
      },
      "source": [
        "df = pd.read_csv('agr_en_train.csv', names=['unique_id','text','aggression-level'], sep=',')\n",
        "print(df.iloc[0])"
      ],
      "execution_count": 0,
      "outputs": []
    },
    {
      "cell_type": "markdown",
      "metadata": {
        "id": "FkedasNbiFdn",
        "colab_type": "text"
      },
      "source": [
        "Check for missing values"
      ]
    },
    {
      "cell_type": "code",
      "metadata": {
        "id": "-RGyKGNhXAXr",
        "colab_type": "code",
        "colab": {}
      },
      "source": [
        "df.isna().values.any()"
      ],
      "execution_count": 0,
      "outputs": []
    },
    {
      "cell_type": "markdown",
      "metadata": {
        "id": "K9lH64z_iQR_",
        "colab_type": "text"
      },
      "source": [
        "Count the occurrences per Aggression Level"
      ]
    },
    {
      "cell_type": "code",
      "metadata": {
        "id": "NBKduKwWiJBt",
        "colab_type": "code",
        "colab": {}
      },
      "source": [
        "df['aggression-level'].value_counts() "
      ],
      "execution_count": 0,
      "outputs": []
    },
    {
      "cell_type": "markdown",
      "metadata": {
        "id": "NCA0L0_9iZxJ",
        "colab_type": "text"
      },
      "source": [
        "Identify the top occurring words per Aggression Level"
      ]
    },
    {
      "cell_type": "code",
      "metadata": {
        "id": "theMyQE6iJwz",
        "colab_type": "code",
        "colab": {}
      },
      "source": [
        "nlp = spacy.load('en')\n",
        "df['parsed'] = df.text.apply(nlp)\n",
        "data = st.CorpusFromParsedDocuments(df, category_col='aggression-level', \n",
        "                                      parsed_col='parsed').build().remove_terms(nlp.Defaults.stop_words, ignore_absences=True)\n",
        "\n",
        "freq_df = data.get_term_freq_df()\n",
        "oag_tw = freq_df.sort_values(by=['OAG freq'], ascending=False)\n",
        "oag_tw = oag_tw.drop(oag_tw.columns[[1,2]], axis=1)\n",
        "nag_tw = freq_df.sort_values(by=['NAG freq'], ascending=False)\n",
        "nag_tw = nag_tw.drop(nag_tw.columns[[0,2]], axis=1)\n",
        "cag_tw = freq_df.sort_values(by=['CAG freq'], ascending=False)\n",
        "cag_tw = cag_tw.drop(cag_tw.columns[[0,1]], axis=1)\n",
        "\n",
        "print(oag_tw.head())\n",
        "print(nag_tw.head())\n",
        "print(cag_tw.head())"
      ],
      "execution_count": 0,
      "outputs": []
    },
    {
      "cell_type": "markdown",
      "metadata": {
        "id": "Sfu4-4Qvsg-s",
        "colab_type": "text"
      },
      "source": [
        "Replace the text labels with values"
      ]
    },
    {
      "cell_type": "code",
      "metadata": {
        "id": "fal8prKFiKR6",
        "colab_type": "code",
        "colab": {}
      },
      "source": [
        "df['aggression-level'] = df['aggression-level'].replace({ 'OAG' : 0, 'NAG' : 1, 'CAG' : 2 }) "
      ],
      "execution_count": 0,
      "outputs": []
    },
    {
      "cell_type": "markdown",
      "metadata": {
        "id": "FxsKqKN27QMI",
        "colab_type": "text"
      },
      "source": [
        "Clean up the text to remove non-ASCII characters and set all text to lowercase (potential to remove numbers and stopwords)"
      ]
    },
    {
      "cell_type": "code",
      "metadata": {
        "id": "HuDF4_7giKfd",
        "colab_type": "code",
        "colab": {}
      },
      "source": [
        "def clean_up(text):\n",
        "  text = re.sub(r'[^\\x00-\\x7f]',r' ',text)\n",
        "  text = text.replace('&', ' and ')\n",
        "  text = text.replace('@', ' at ')\n",
        "  text = text.lower\n",
        "\n",
        "  return text"
      ],
      "execution_count": 0,
      "outputs": []
    },
    {
      "cell_type": "markdown",
      "metadata": {
        "id": "oapR1uNkGpLX",
        "colab_type": "text"
      },
      "source": [
        "Load the fasttext model"
      ]
    },
    {
      "cell_type": "code",
      "metadata": {
        "id": "GW4W9rBzGnJ2",
        "colab_type": "code",
        "colab": {}
      },
      "source": [
        "fasttext.util.download_model('en', if_exists='ignore') \n",
        "ft = fasttext.load_model('cc.en.300.bin')"
      ],
      "execution_count": 0,
      "outputs": []
    },
    {
      "cell_type": "code",
      "metadata": {
        "id": "NzZjxy5oGoFX",
        "colab_type": "code",
        "colab": {}
      },
      "source": [
        ""
      ],
      "execution_count": 0,
      "outputs": []
    },
    {
      "cell_type": "code",
      "metadata": {
        "id": "EhwFxDeeiKr0",
        "colab_type": "code",
        "colab": {}
      },
      "source": [
        "unique_words = len(set(df['text'].str.cat(sep=' ').lower().split()))\n",
        "data_count = len(df)\n",
        "dims = ft.get_dimension()"
      ],
      "execution_count": 0,
      "outputs": []
    }
  ]
}