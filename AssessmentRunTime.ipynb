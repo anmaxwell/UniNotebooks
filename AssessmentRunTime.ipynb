{
  "nbformat": 4,
  "nbformat_minor": 0,
  "metadata": {
    "colab": {
      "name": "AssessmentRunTime.ipynb",
      "provenance": [],
      "machine_shape": "hm",
      "authorship_tag": "ABX9TyPB89GOhWyzOw1yztqBoGv9",
      "include_colab_link": true
    },
    "kernelspec": {
      "name": "python3",
      "display_name": "Python 3"
    }
  },
  "cells": [
    {
      "cell_type": "markdown",
      "metadata": {
        "id": "view-in-github",
        "colab_type": "text"
      },
      "source": [
        "<a href=\"https://colab.research.google.com/github/anmaxwell/UniNotebooks/blob/master/AssessmentRunTime.ipynb\" target=\"_parent\"><img src=\"https://colab.research.google.com/assets/colab-badge.svg\" alt=\"Open In Colab\"/></a>"
      ]
    },
    {
      "cell_type": "code",
      "metadata": {
        "id": "DLFtqMZP4LTr",
        "colab_type": "code",
        "outputId": "396e399f-74a3-4fff-a8ab-b01b98747cfa",
        "colab": {
          "base_uri": "https://localhost:8080/",
          "height": 258
        }
      },
      "source": [
        "!pip install \"git+https://github.com/facebookresearch/fastText.git\""
      ],
      "execution_count": 2,
      "outputs": [
        {
          "output_type": "stream",
          "text": [
            "Collecting git+https://github.com/facebookresearch/fastText.git\n",
            "  Cloning https://github.com/facebookresearch/fastText.git to /tmp/pip-req-build-2_hnugwg\n",
            "  Running command git clone -q https://github.com/facebookresearch/fastText.git /tmp/pip-req-build-2_hnugwg\n",
            "Requirement already satisfied: pybind11>=2.2 in /usr/local/lib/python3.6/dist-packages (from fasttext==0.9.1) (2.5.0)\n",
            "Requirement already satisfied: setuptools>=0.7.0 in /usr/local/lib/python3.6/dist-packages (from fasttext==0.9.1) (46.1.3)\n",
            "Requirement already satisfied: numpy in /usr/local/lib/python3.6/dist-packages (from fasttext==0.9.1) (1.18.2)\n",
            "Building wheels for collected packages: fasttext\n",
            "  Building wheel for fasttext (setup.py) ... \u001b[?25l\u001b[?25hdone\n",
            "  Created wheel for fasttext: filename=fasttext-0.9.1-cp36-cp36m-linux_x86_64.whl size=2872978 sha256=df425fc56462be20eee8df8b04038fc723f6d195bbf19584a0a916009d8f2229\n",
            "  Stored in directory: /tmp/pip-ephem-wheel-cache-3dpl1rvn/wheels/69/f8/19/7f0ab407c078795bc9f86e1f6381349254f86fd7d229902355\n",
            "Successfully built fasttext\n",
            "Installing collected packages: fasttext\n",
            "Successfully installed fasttext-0.9.1\n"
          ],
          "name": "stdout"
        }
      ]
    },
    {
      "cell_type": "markdown",
      "metadata": {
        "id": "-K_qm9qaXGM_",
        "colab_type": "text"
      },
      "source": [
        "Install all necessary packages"
      ]
    },
    {
      "cell_type": "code",
      "metadata": {
        "id": "G9Hmw7ETW_af",
        "colab_type": "code",
        "colab": {
          "base_uri": "https://localhost:8080/",
          "height": 34
        },
        "outputId": "8976d840-c9ea-4b97-cb38-d5d2c63abf76"
      },
      "source": [
        "import fasttext.util\n",
        "import numpy as np\n",
        "import pandas as pd\n",
        "import re\n",
        "\n",
        "from keras import layers\n",
        "from keras.layers import Dropout \n",
        "from keras.models import Sequential\n",
        "from keras.preprocessing.text import text_to_word_sequence\n",
        "from keras.preprocessing.text import Tokenizer\n",
        "from keras.utils import to_categorical\n",
        "from sklearn.model_selection import train_test_split"
      ],
      "execution_count": 3,
      "outputs": [
        {
          "output_type": "stream",
          "text": [
            "Using TensorFlow backend.\n"
          ],
          "name": "stderr"
        }
      ]
    },
    {
      "cell_type": "markdown",
      "metadata": {
        "id": "J5lT_VeNXUZ4",
        "colab_type": "text"
      },
      "source": [
        "Read in data and look at first item"
      ]
    },
    {
      "cell_type": "code",
      "metadata": {
        "id": "WBNz2bCXW_68",
        "colab_type": "code",
        "outputId": "4fd7206c-fc08-4393-8a6e-122029d45d2e",
        "colab": {
          "base_uri": "https://localhost:8080/",
          "height": 85
        }
      },
      "source": [
        "df = pd.read_csv('agr_en_train.csv', names=['unique_id','text','aggression-level'], sep=',')\n",
        "print(df.iloc[0])"
      ],
      "execution_count": 5,
      "outputs": [
        {
          "output_type": "stream",
          "text": [
            "unique_id                                 facebook_corpus_msr_1723796\n",
            "text                Well said sonu..you have courage to stand agai...\n",
            "aggression-level                                                  OAG\n",
            "Name: 0, dtype: object\n"
          ],
          "name": "stdout"
        }
      ]
    },
    {
      "cell_type": "markdown",
      "metadata": {
        "id": "FkedasNbiFdn",
        "colab_type": "text"
      },
      "source": [
        "Check for missing values"
      ]
    },
    {
      "cell_type": "code",
      "metadata": {
        "id": "-RGyKGNhXAXr",
        "colab_type": "code",
        "outputId": "2895dfd1-37d5-4345-b415-93b4f45568e1",
        "colab": {
          "base_uri": "https://localhost:8080/",
          "height": 34
        }
      },
      "source": [
        "df.isna().values.any()"
      ],
      "execution_count": 6,
      "outputs": [
        {
          "output_type": "execute_result",
          "data": {
            "text/plain": [
              "False"
            ]
          },
          "metadata": {
            "tags": []
          },
          "execution_count": 6
        }
      ]
    },
    {
      "cell_type": "markdown",
      "metadata": {
        "id": "K9lH64z_iQR_",
        "colab_type": "text"
      },
      "source": [
        "Count the occurrences per Aggression Level"
      ]
    },
    {
      "cell_type": "code",
      "metadata": {
        "id": "NBKduKwWiJBt",
        "colab_type": "code",
        "outputId": "10f8d60e-5b60-47c1-caf2-121117f8e6cb",
        "colab": {
          "base_uri": "https://localhost:8080/",
          "height": 85
        }
      },
      "source": [
        "df['aggression-level'].value_counts() "
      ],
      "execution_count": 7,
      "outputs": [
        {
          "output_type": "execute_result",
          "data": {
            "text/plain": [
              "NAG    5051\n",
              "CAG    4240\n",
              "OAG    2708\n",
              "Name: aggression-level, dtype: int64"
            ]
          },
          "metadata": {
            "tags": []
          },
          "execution_count": 7
        }
      ]
    },
    {
      "cell_type": "markdown",
      "metadata": {
        "id": "Sfu4-4Qvsg-s",
        "colab_type": "text"
      },
      "source": [
        "Replace the text labels with values and save as a vector"
      ]
    },
    {
      "cell_type": "code",
      "metadata": {
        "id": "fal8prKFiKR6",
        "colab_type": "code",
        "colab": {}
      },
      "source": [
        "df['aggression-level'] = df['aggression-level'].replace({ 'OAG' : 0, 'NAG' : 1, 'CAG' : 2 }) \n",
        "labels = df['aggression-level'].values\n",
        "labels = to_categorical(labels, num_classes = 3)"
      ],
      "execution_count": 0,
      "outputs": []
    },
    {
      "cell_type": "markdown",
      "metadata": {
        "id": "oapR1uNkGpLX",
        "colab_type": "text"
      },
      "source": [
        "Load the fasttext model"
      ]
    },
    {
      "cell_type": "code",
      "metadata": {
        "id": "GW4W9rBzGnJ2",
        "colab_type": "code",
        "outputId": "de8922f4-a830-4416-a9ac-379244251bb9",
        "colab": {
          "base_uri": "https://localhost:8080/",
          "height": 241
        }
      },
      "source": [
        "fasttext.util.download_model('en', if_exists='ignore') \n",
        "ft = fasttext.load_model('cc.en.300.bin')"
      ],
      "execution_count": 9,
      "outputs": [
        {
          "output_type": "stream",
          "text": [
            "Downloading https://dl.fbaipublicfiles.com/fasttext/vectors-crawl/cc.en.300.bin.gz\n"
          ],
          "name": "stdout"
        },
        {
          "output_type": "stream",
          "text": [
            "IOPub message rate exceeded.\n",
            "The notebook server will temporarily stop sending output\n",
            "to the client in order to avoid crashing it.\n",
            "To change this limit, set the config variable\n",
            "`--NotebookApp.iopub_msg_rate_limit`.\n",
            "\n",
            "Current values:\n",
            "NotebookApp.iopub_msg_rate_limit=1000.0 (msgs/sec)\n",
            "NotebookApp.rate_limit_window=3.0 (secs)\n",
            "\n",
            "Warning : `load_model` does not return WordVectorModel or SupervisedModel any more, but a `FastText` object which is very similar.\n"
          ],
          "name": "stderr"
        }
      ]
    },
    {
      "cell_type": "markdown",
      "metadata": {
        "id": "JaAG2z04K8A9",
        "colab_type": "text"
      },
      "source": [
        "Set the parameters"
      ]
    },
    {
      "cell_type": "code",
      "metadata": {
        "id": "EhwFxDeeiKr0",
        "colab_type": "code",
        "colab": {}
      },
      "source": [
        "review_length = 50\n",
        "data_count = len(df)\n",
        "dims = ft.get_dimension()"
      ],
      "execution_count": 0,
      "outputs": []
    },
    {
      "cell_type": "markdown",
      "metadata": {
        "id": "7l2NBvSzepsj",
        "colab_type": "text"
      },
      "source": [
        "Function to take the text from the review column, clean it, turn it to individual words then convert to vectors"
      ]
    },
    {
      "cell_type": "code",
      "metadata": {
        "id": "-NKO26wQerGK",
        "colab_type": "code",
        "colab": {}
      },
      "source": [
        "def text_to_vector(text):\n",
        "\n",
        "  text = text.replace('&', ' and ')\n",
        "  text = text.replace('@', ' at ')\n",
        "  text = re.sub(r'[^\\x41-\\x7f]',r' ',text)\n",
        "  text = text.lower().split()\n",
        "\n",
        "  window = text[-review_length:]\n",
        "  \n",
        "  vectors = np.zeros((review_length, dims))\n",
        "\n",
        "  for i, word in enumerate(window):\n",
        "      vectors[i, :] = ft.get_word_vector(word).astype('float32')\n",
        "\n",
        "  return vectors\n"
      ],
      "execution_count": 0,
      "outputs": []
    },
    {
      "cell_type": "markdown",
      "metadata": {
        "id": "LACbBOSSer9A",
        "colab_type": "text"
      },
      "source": [
        "Function to create the word embedding"
      ]
    },
    {
      "cell_type": "code",
      "metadata": {
        "id": "oIwDnEta4xQe",
        "colab_type": "code",
        "colab": {}
      },
      "source": [
        "def create_word_embedding(df):\n",
        "\n",
        "    word_embedding = np.zeros((len(df), review_length, dims), dtype='float32')\n",
        "\n",
        "    for i, review in enumerate(df['text'].values):\n",
        "        word_embedding[i, :] = text_to_vector(review)\n",
        "\n",
        "    return word_embedding"
      ],
      "execution_count": 0,
      "outputs": []
    },
    {
      "cell_type": "markdown",
      "metadata": {
        "id": "dm4YTsnyg1YN",
        "colab_type": "text"
      },
      "source": [
        "Create the embedding"
      ]
    },
    {
      "cell_type": "code",
      "metadata": {
        "id": "aFbazWJh5KIO",
        "colab_type": "code",
        "colab": {}
      },
      "source": [
        "embedding = create_word_embedding(df)"
      ],
      "execution_count": 0,
      "outputs": []
    },
    {
      "cell_type": "markdown",
      "metadata": {
        "id": "WiXOm77HhABk",
        "colab_type": "text"
      },
      "source": [
        "Create the training and test set"
      ]
    },
    {
      "cell_type": "code",
      "metadata": {
        "id": "AfyXv14B6cz9",
        "colab_type": "code",
        "colab": {}
      },
      "source": [
        "X_train, X_test, y_train, y_test = train_test_split(embedding, labels, test_size=0.10, random_state=42)"
      ],
      "execution_count": 0,
      "outputs": []
    },
    {
      "cell_type": "markdown",
      "metadata": {
        "id": "XCbBM3Goisht",
        "colab_type": "text"
      },
      "source": [
        "Create the CNN"
      ]
    },
    {
      "cell_type": "code",
      "metadata": {
        "id": "RCeeog2K6qjO",
        "colab_type": "code",
        "colab": {}
      },
      "source": [
        "def cnn_text_classifier():\n",
        "\n",
        "    model = Sequential()\n",
        "    model.add(layers.Conv1D(filters=128, kernel_size=3, activation='relu', input_shape=(review_length, dims)))\n",
        "    model.add(layers.Conv1D(filters=64, kernel_size=3, activation='relu'))\n",
        "    model.add(Dropout(0.5))\n",
        "    model.add(layers.GlobalMaxPooling1D())\n",
        "    model.add(layers.Dense(10, activation='relu'))\n",
        "    model.add(layers.Dense(3, activation='sigmoid'))\n",
        "    model.compile(optimizer='adam', loss='categorical_crossentropy', metrics=['accuracy'])\n",
        "    model.summary()\n",
        "    return model"
      ],
      "execution_count": 0,
      "outputs": []
    },
    {
      "cell_type": "markdown",
      "metadata": {
        "id": "heFRdX44i7d9",
        "colab_type": "text"
      },
      "source": [
        "Build the model"
      ]
    },
    {
      "cell_type": "code",
      "metadata": {
        "id": "US3b2CqE8Es9",
        "colab_type": "code",
        "outputId": "d834f7d0-bd38-4979-cda7-cf041ff0e50a",
        "colab": {
          "base_uri": "https://localhost:8080/",
          "height": 374
        }
      },
      "source": [
        "model = cnn_text_classifier()\n",
        "model.fit(X_train, y_train, epochs=20, verbose=False, validation_data=(X_test, y_test), batch_size=10)"
      ],
      "execution_count": 53,
      "outputs": [
        {
          "output_type": "stream",
          "text": [
            "Model: \"sequential_13\"\n",
            "_________________________________________________________________\n",
            "Layer (type)                 Output Shape              Param #   \n",
            "=================================================================\n",
            "conv1d_23 (Conv1D)           (None, 48, 128)           115328    \n",
            "_________________________________________________________________\n",
            "conv1d_24 (Conv1D)           (None, 46, 64)            24640     \n",
            "_________________________________________________________________\n",
            "dropout_13 (Dropout)         (None, 46, 64)            0         \n",
            "_________________________________________________________________\n",
            "global_max_pooling1d_5 (Glob (None, 64)                0         \n",
            "_________________________________________________________________\n",
            "dense_24 (Dense)             (None, 10)                650       \n",
            "_________________________________________________________________\n",
            "dense_25 (Dense)             (None, 3)                 33        \n",
            "=================================================================\n",
            "Total params: 140,651\n",
            "Trainable params: 140,651\n",
            "Non-trainable params: 0\n",
            "_________________________________________________________________\n"
          ],
          "name": "stdout"
        },
        {
          "output_type": "execute_result",
          "data": {
            "text/plain": [
              "<keras.callbacks.callbacks.History at 0x7f6c0be439b0>"
            ]
          },
          "metadata": {
            "tags": []
          },
          "execution_count": 53
        }
      ]
    },
    {
      "cell_type": "markdown",
      "metadata": {
        "id": "1mAyPgjKi_GA",
        "colab_type": "text"
      },
      "source": [
        "Check the accuracy"
      ]
    },
    {
      "cell_type": "code",
      "metadata": {
        "id": "Y_O6ozD2Cwv3",
        "colab_type": "code",
        "outputId": "8da913e4-a086-4b18-8f3b-9873b9fa4662",
        "colab": {
          "base_uri": "https://localhost:8080/",
          "height": 51
        }
      },
      "source": [
        "loss, accuracy = model.evaluate(X_train, y_train, verbose=False)\n",
        "print(\"Training Accuracy: {:.4f}\".format(accuracy))\n",
        "loss, accuracy = model.evaluate(X_test, y_test, verbose=False)\n",
        "print(\"Testing Accuracy:  {:.4f}\".format(accuracy))"
      ],
      "execution_count": 54,
      "outputs": [
        {
          "output_type": "stream",
          "text": [
            "Training Accuracy: 0.8262\n",
            "Testing Accuracy:  0.5050\n"
          ],
          "name": "stdout"
        }
      ]
    },
    {
      "cell_type": "code",
      "metadata": {
        "id": "yglXUt8HSwiP",
        "colab_type": "code",
        "colab": {}
      },
      "source": [
        "import matplotlib.pyplot as plt\n",
        "plt.style.use('ggplot')\n",
        "\n",
        "def plot_history(training):\n",
        "    acc = training.history['acc']\n",
        "    val_acc = training.history['val_acc']\n",
        "    loss = training.history['loss']\n",
        "    val_loss = training.history['val_loss']\n",
        "    x = range(1, len(acc) + 1)\n",
        "\n",
        "    plt.figure(figsize=(14, 8))\n",
        "    plt.subplot(1, 2, 2)\n",
        "    plt.plot(x, acc, 'b', label='Training acc')\n",
        "    plt.plot(x, val_acc, 'r', label='Validation acc')\n",
        "    plt.title('Training and validation accuracy')\n",
        "    plt.legend()\n",
        "    plt.subplot(1, 2, 2)\n",
        "    plt.plot(x, loss, 'b', label='Training loss')\n",
        "    plt.plot(x, val_loss, 'r', label='Validation loss')\n",
        "    plt.title('Training and validation loss')\n",
        "    plt.legend()"
      ],
      "execution_count": 0,
      "outputs": []
    },
    {
      "cell_type": "code",
      "metadata": {
        "id": "0vhcCOyZ4AjO",
        "colab_type": "code",
        "outputId": "6e09820e-8c5d-42e3-de2b-c65858a76fe4",
        "colab": {
          "base_uri": "https://localhost:8080/",
          "height": 283
        }
      },
      "source": [
        "plot_history(y_train)"
      ],
      "execution_count": 19,
      "outputs": [
        {
          "output_type": "error",
          "ename": "AttributeError",
          "evalue": "ignored",
          "traceback": [
            "\u001b[0;31m---------------------------------------------------------------------------\u001b[0m",
            "\u001b[0;31mAttributeError\u001b[0m                            Traceback (most recent call last)",
            "\u001b[0;32m<ipython-input-19-7584051f5775>\u001b[0m in \u001b[0;36m<module>\u001b[0;34m()\u001b[0m\n\u001b[0;32m----> 1\u001b[0;31m \u001b[0mplot_history\u001b[0m\u001b[0;34m(\u001b[0m\u001b[0my_train\u001b[0m\u001b[0;34m)\u001b[0m\u001b[0;34m\u001b[0m\u001b[0;34m\u001b[0m\u001b[0m\n\u001b[0m",
            "\u001b[0;32m<ipython-input-18-4223e896b051>\u001b[0m in \u001b[0;36mplot_history\u001b[0;34m(training)\u001b[0m\n\u001b[1;32m      3\u001b[0m \u001b[0;34m\u001b[0m\u001b[0m\n\u001b[1;32m      4\u001b[0m \u001b[0;32mdef\u001b[0m \u001b[0mplot_history\u001b[0m\u001b[0;34m(\u001b[0m\u001b[0mtraining\u001b[0m\u001b[0;34m)\u001b[0m\u001b[0;34m:\u001b[0m\u001b[0;34m\u001b[0m\u001b[0;34m\u001b[0m\u001b[0m\n\u001b[0;32m----> 5\u001b[0;31m     \u001b[0macc\u001b[0m \u001b[0;34m=\u001b[0m \u001b[0mtraining\u001b[0m\u001b[0;34m.\u001b[0m\u001b[0mhistory\u001b[0m\u001b[0;34m[\u001b[0m\u001b[0;34m'acc'\u001b[0m\u001b[0;34m]\u001b[0m\u001b[0;34m\u001b[0m\u001b[0;34m\u001b[0m\u001b[0m\n\u001b[0m\u001b[1;32m      6\u001b[0m     \u001b[0mval_acc\u001b[0m \u001b[0;34m=\u001b[0m \u001b[0mtraining\u001b[0m\u001b[0;34m.\u001b[0m\u001b[0mhistory\u001b[0m\u001b[0;34m[\u001b[0m\u001b[0;34m'val_acc'\u001b[0m\u001b[0;34m]\u001b[0m\u001b[0;34m\u001b[0m\u001b[0;34m\u001b[0m\u001b[0m\n\u001b[1;32m      7\u001b[0m     \u001b[0mloss\u001b[0m \u001b[0;34m=\u001b[0m \u001b[0mtraining\u001b[0m\u001b[0;34m.\u001b[0m\u001b[0mhistory\u001b[0m\u001b[0;34m[\u001b[0m\u001b[0;34m'loss'\u001b[0m\u001b[0;34m]\u001b[0m\u001b[0;34m\u001b[0m\u001b[0;34m\u001b[0m\u001b[0m\n",
            "\u001b[0;31mAttributeError\u001b[0m: 'numpy.ndarray' object has no attribute 'history'"
          ]
        }
      ]
    },
    {
      "cell_type": "code",
      "metadata": {
        "id": "Ur-pamCHszMD",
        "colab_type": "code",
        "colab": {}
      },
      "source": [
        ""
      ],
      "execution_count": 0,
      "outputs": []
    }
  ]
}